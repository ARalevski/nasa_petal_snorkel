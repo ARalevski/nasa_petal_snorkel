{
 "cells": [
  {
   "cell_type": "code",
   "execution_count": 4,
   "metadata": {},
   "outputs": [],
   "source": [
    "from snorkel.labeling import LabelingFunction\n",
    "from snorkel.labeling import labeling_function\n",
    "from snorkel.labeling.model import LabelModel\n",
    "from snorkel.labeling import PandasLFApplier\n",
    "from snorkel.labeling import LFAnalysis\n",
    "from snorkel.analysis import get_label_buckets\n",
    "from snorkel.labeling.model import MajorityLabelVoter\n",
    "from snorkel.labeling import filter_unlabeled_dataframe\n",
    "import re"
   ]
  },
  {
   "cell_type": "code",
   "execution_count": 5,
   "metadata": {},
   "outputs": [],
   "source": [
    "#import csv file and load train/test/split of dataset\n",
    "from utils import load_dataset\n",
    "df_train, df_test = load_dataset()\n",
    "# df_train = df_train.fillna(\"\")\n",
    "Y_test = df_test.label.values"
   ]
  },
  {
   "cell_type": "code",
   "execution_count": 6,
   "metadata": {},
   "outputs": [
    {
     "data": {
      "text/plain": [
       "[LabelingFunction keyword_attach_permanently, Preprocessors: [],\n",
       " LabelingFunction keyword_attach_temporarily, Preprocessors: [],\n",
       " LabelingFunction keyword_passively_move_solids, Preprocessors: [],\n",
       " LabelingFunction keyword_passively_move_liquids, Preprocessors: [],\n",
       " LabelingFunction keyword_passively_move_gases, Preprocessors: [],\n",
       " LabelingFunction keyword_passively_move_granular_media, Preprocessors: [],\n",
       " LabelingFunction keyword_actively_move_solids, Preprocessors: [],\n",
       " LabelingFunction keyword_actively_move_liquids, Preprocessors: [],\n",
       " LabelingFunction keyword_actively_move_gases, Preprocessors: [],\n",
       " LabelingFunction keyword_actively_move_granular_media, Preprocessors: [],\n",
       " LabelingFunction keyword_protect_from_animals, Preprocessors: [],\n",
       " LabelingFunction keyword_protect_from_plants, Preprocessors: [],\n",
       " LabelingFunction keyword_protect_from_fungi, Preprocessors: [],\n",
       " LabelingFunction keyword_protect_from_microbes, Preprocessors: [],\n",
       " LabelingFunction keyword_protect_from_solids, Preprocessors: [],\n",
       " LabelingFunction keyword_protect_from_excess_liquids, Preprocessors: [],\n",
       " LabelingFunction keyword_protect_from_loss_liquids, Preprocessors: [],\n",
       " LabelingFunction keyword_protect_from_gases, Preprocessors: [],\n",
       " LabelingFunction keyword_protect_from_wind, Preprocessors: [],\n",
       " LabelingFunction keyword_protect_from_temperature, Preprocessors: [],\n",
       " LabelingFunction keyword_protect_from_fire, Preprocessors: [],\n",
       " LabelingFunction keyword_protect_from_ice, Preprocessors: [],\n",
       " LabelingFunction keyword_protect_from_light, Preprocessors: [],\n",
       " LabelingFunction keyword_protect_from_chemicals, Preprocessors: [],\n",
       " LabelingFunction keyword_protect_from_radiation, Preprocessors: [],\n",
       " LabelingFunction keyword_manage_impact, Preprocessors: [],\n",
       " LabelingFunction keyword_regulate_drag_turbulence, Preprocessors: [],\n",
       " LabelingFunction keyword_prevent_buckling, Preprocessors: [],\n",
       " LabelingFunction keyword_prevent_fracture_rupture, Preprocessors: [],\n",
       " LabelingFunction keyword_manage_shear, Preprocessors: [],\n",
       " LabelingFunction keyword_prevent_allow_deformation, Preprocessors: [],\n",
       " LabelingFunction keyword_prevent_fatigue, Preprocessors: [],\n",
       " LabelingFunction keyword_control_erosion, Preprocessors: [],\n",
       " LabelingFunction keyword_regulate_wear, Preprocessors: [],\n",
       " LabelingFunction keyword_change_material_properties, Preprocessors: [],\n",
       " LabelingFunction keyword_regulate_reproduction_growth, Preprocessors: [],\n",
       " LabelingFunction keyword_self-replicate, Preprocessors: [],\n",
       " LabelingFunction keyword_maintain_homeostasis_equillibrium, Preprocessors: [],\n",
       " LabelingFunction keyword_coordinate_self_organization, Preprocessors: [],\n",
       " LabelingFunction keyword_cooperate_within_between_species, Preprocessors: [],\n",
       " LabelingFunction keyword_compete_within_between_species, Preprocessors: [],\n",
       " LabelingFunction keyword_manage_environmental_disturbance_in_a_community, Preprocessors: [],\n",
       " LabelingFunction keyword_manage_populations_pests_diseases, Preprocessors: [],\n",
       " LabelingFunction keyword_maintain_biodiversity, Preprocessors: [],\n",
       " LabelingFunction keyword_chemically_assemble_inorganic_compounds, Preprocessors: [],\n",
       " LabelingFunction keyword_chemically_assemble_organic_compounds, Preprocessors: [],\n",
       " LabelingFunction keyword_self-assemble, Preprocessors: [],\n",
       " LabelingFunction keyword_chemically_break_down_inorganic_compounds, Preprocessors: [],\n",
       " LabelingFunction keyword_chemically_break_down_organic_compounds, Preprocessors: [],\n",
       " LabelingFunction keyword_modify_convert_electrical_energy, Preprocessors: [],\n",
       " LabelingFunction keyword_modify_convert_magnetic_energy, Preprocessors: [],\n",
       " LabelingFunction keyword_modify_convert_chemical_energy, Preprocessors: [],\n",
       " LabelingFunction keyword_modify_convert_mechanical_energy, Preprocessors: [],\n",
       " LabelingFunction keyword_modify_convert_thermal_energy, Preprocessors: [],\n",
       " LabelingFunction keyword_modify_convert_light_energy, Preprocessors: [],\n",
       " LabelingFunction keyword_physically_assemble_structure, Preprocessors: [],\n",
       " LabelingFunction keyword_break_down_structure, Preprocessors: [],\n",
       " LabelingFunction keyword_optimize_shape_materials, Preprocessors: [],\n",
       " LabelingFunction keyword_send_light_signals_in_the_visible_spectrum, Preprocessors: [],\n",
       " LabelingFunction keyword_send_light_signals_in_the_non-visible_spectrum, Preprocessors: [],\n",
       " LabelingFunction keyword_send_sound_signals, Preprocessors: [],\n",
       " LabelingFunction keyword_send_tactile_signals, Preprocessors: [],\n",
       " LabelingFunction keyword_send_chemical_signals, Preprocessors: [],\n",
       " LabelingFunction keyword_send_vibratory_signals, Preprocessors: [],\n",
       " LabelingFunction keyword_send_electrical_magnetic_signals, Preprocessors: [],\n",
       " LabelingFunction keyword_differentiate_signal_from_noise, Preprocessors: [],\n",
       " LabelingFunction keyword_convert_signals, Preprocessors: [],\n",
       " LabelingFunction keyword_respond_to_signals, Preprocessors: [],\n",
       " LabelingFunction keyword_sense_light_in_the_visible_spectrum, Preprocessors: [],\n",
       " LabelingFunction keyword_sense_light_in_the_non-visible_spectrum, Preprocessors: [],\n",
       " LabelingFunction keyword_sense_electricity_magnetism, Preprocessors: [],\n",
       " LabelingFunction keyword_sense_disease_in_a_living_system, Preprocessors: [],\n",
       " LabelingFunction keyword_sense_touch_and_mechanical_forces, Preprocessors: [],\n",
       " LabelingFunction keyword_sense_chemicals, Preprocessors: [],\n",
       " LabelingFunction keyword_sense_atmospheric_conditions, Preprocessors: [],\n",
       " LabelingFunction keyword_sense_sound_vibrations, Preprocessors: [],\n",
       " LabelingFunction keyword_sense_temperature_cues, Preprocessors: [],\n",
       " LabelingFunction keyword_sense_motion, Preprocessors: [],\n",
       " LabelingFunction keyword_sense_spatial_awareness_balance_orientation, Preprocessors: [],\n",
       " LabelingFunction keyword_sense_shape_pattern, Preprocessors: [],\n",
       " LabelingFunction keyword_capture_solids, Preprocessors: [],\n",
       " LabelingFunction keyword_capture_liquids, Preprocessors: [],\n",
       " LabelingFunction keyword_capture_gases, Preprocessors: [],\n",
       " LabelingFunction keyword_capture_energy, Preprocessors: [],\n",
       " LabelingFunction keyword_absorb_filter_solids, Preprocessors: [],\n",
       " LabelingFunction keyword_absorb_filter_liquids, Preprocessors: [],\n",
       " LabelingFunction keyword_absorb_filter_gases, Preprocessors: [],\n",
       " LabelingFunction keyword_store_solids, Preprocessors: [],\n",
       " LabelingFunction keyword_store_liquids, Preprocessors: [],\n",
       " LabelingFunction keyword_store_gases, Preprocessors: [],\n",
       " LabelingFunction keyword_store_energy, Preprocessors: [],\n",
       " LabelingFunction keyword_distribute_expel_solids, Preprocessors: [],\n",
       " LabelingFunction keyword_distribute_expel_liquids, Preprocessors: [],\n",
       " LabelingFunction keyword_distribute_expel_gases, Preprocessors: [],\n",
       " LabelingFunction keyword_distribute_expel_energy, Preprocessors: [],\n",
       " LabelingFunction keyword_detox_purify, Preprocessors: [],\n",
       " LabelingFunction keyword_change_structural_color, Preprocessors: [],\n",
       " LabelingFunction keyword_change_chemical_color_pigmentation, Preprocessors: [],\n",
       " LabelingFunction keyword_camouflage_mimicry, Preprocessors: [],\n",
       " LabelingFunction keyword_change_size_shape, Preprocessors: []]"
      ]
     },
     "execution_count": 6,
     "metadata": {},
     "output_type": "execute_result"
    }
   ],
   "source": [
    "#get lfs\n",
    "from snorkel_paht import create_labeling_functions\n",
    "create_labeling_functions('biomimicry_functions_enumerated.csv', 'biomimicry_function_rules.csv')"
   ]
  },
  {
   "cell_type": "code",
   "execution_count": 7,
   "metadata": {},
   "outputs": [
    {
     "ename": "NameError",
     "evalue": "name 'labeling_function_list' is not defined",
     "output_type": "error",
     "traceback": [
      "\u001b[1;31m---------------------------------------------------------------------------\u001b[0m",
      "\u001b[1;31mNameError\u001b[0m                                 Traceback (most recent call last)",
      "\u001b[1;32mC:\\Users\\ARALEV~1\\AppData\\Local\\Temp/ipykernel_10944/97973916.py\u001b[0m in \u001b[0;36m<module>\u001b[1;34m\u001b[0m\n\u001b[1;32m----> 1\u001b[1;33m \u001b[0mapplier\u001b[0m \u001b[1;33m=\u001b[0m \u001b[0mPandasLFApplier\u001b[0m\u001b[1;33m(\u001b[0m\u001b[0mlfs\u001b[0m\u001b[1;33m=\u001b[0m\u001b[0mlabeling_function_list\u001b[0m\u001b[1;33m)\u001b[0m\u001b[1;33m\u001b[0m\u001b[1;33m\u001b[0m\u001b[0m\n\u001b[0m\u001b[0;32m      2\u001b[0m \u001b[1;31m# define train and test sets\u001b[0m\u001b[1;33m\u001b[0m\u001b[1;33m\u001b[0m\u001b[1;33m\u001b[0m\u001b[0m\n\u001b[0;32m      3\u001b[0m \u001b[0mL_train\u001b[0m \u001b[1;33m=\u001b[0m \u001b[0mapplier\u001b[0m\u001b[1;33m.\u001b[0m\u001b[0mapply\u001b[0m\u001b[1;33m(\u001b[0m\u001b[0mdf\u001b[0m\u001b[1;33m=\u001b[0m\u001b[0mdf_train\u001b[0m\u001b[1;33m)\u001b[0m\u001b[1;33m\u001b[0m\u001b[1;33m\u001b[0m\u001b[0m\n\u001b[0;32m      4\u001b[0m \u001b[0mL_test\u001b[0m \u001b[1;33m=\u001b[0m \u001b[0mapplier\u001b[0m\u001b[1;33m.\u001b[0m\u001b[0mapply\u001b[0m\u001b[1;33m(\u001b[0m\u001b[0mdf\u001b[0m\u001b[1;33m=\u001b[0m\u001b[0mdf_test\u001b[0m\u001b[1;33m)\u001b[0m\u001b[1;33m\u001b[0m\u001b[1;33m\u001b[0m\u001b[0m\n",
      "\u001b[1;31mNameError\u001b[0m: name 'labeling_function_list' is not defined"
     ]
    }
   ],
   "source": [
    "applier = PandasLFApplier(lfs=labeling_function_list)\n",
    "# define train and test sets\n",
    "L_train = applier.apply(df=df_train)\n",
    "L_test = applier.apply(df=df_test)"
   ]
  },
  {
   "cell_type": "code",
   "execution_count": 14,
   "metadata": {},
   "outputs": [
    {
     "ename": "NameError",
     "evalue": "name 'L_train' is not defined",
     "output_type": "error",
     "traceback": [
      "\u001b[1;31m---------------------------------------------------------------------------\u001b[0m",
      "\u001b[1;31mNameError\u001b[0m                                 Traceback (most recent call last)",
      "\u001b[1;32mC:\\Users\\ARALEV~1\\AppData\\Local\\Temp/ipykernel_4128/1679379198.py\u001b[0m in \u001b[0;36m<module>\u001b[1;34m\u001b[0m\n\u001b[1;32m----> 1\u001b[1;33m \u001b[0mLFAnalysis\u001b[0m\u001b[1;33m(\u001b[0m\u001b[0mL\u001b[0m\u001b[1;33m=\u001b[0m\u001b[0mL_train\u001b[0m\u001b[1;33m,\u001b[0m \u001b[0mlfs\u001b[0m\u001b[1;33m=\u001b[0m\u001b[0mlabeling_function_list\u001b[0m\u001b[1;33m)\u001b[0m\u001b[1;33m.\u001b[0m\u001b[0mlf_summary\u001b[0m\u001b[1;33m(\u001b[0m\u001b[1;33m)\u001b[0m\u001b[1;33m\u001b[0m\u001b[1;33m\u001b[0m\u001b[0m\n\u001b[0m",
      "\u001b[1;31mNameError\u001b[0m: name 'L_train' is not defined"
     ]
    }
   ],
   "source": [
    "LFAnalysis(L=L_train, lfs=labeling_function_list).lf_summary()"
   ]
  },
  {
   "cell_type": "code",
   "execution_count": 35,
   "metadata": {},
   "outputs": [],
   "source": [
    "# buckets = get_label_buckets(L_train[:, 0], L_train[:, 1])\n",
    "# df_train.iloc[buckets[(ABSTAIN, SPAM)]].sample(10, random_state=1)"
   ]
  },
  {
   "cell_type": "code",
   "execution_count": 19,
   "metadata": {},
   "outputs": [],
   "source": [
    "majority_model = MajorityLabelVoter()\n",
    "preds_train = majority_model.predict(L=L_train)"
   ]
  },
  {
   "cell_type": "code",
   "execution_count": 21,
   "metadata": {},
   "outputs": [],
   "source": [
    "label_model = LabelModel(cardinality=3, verbose=True)\n",
    "label_model.fit(L_train=L_train, n_epochs=500, log_freq=100, seed=123)\n"
   ]
  },
  {
   "cell_type": "code",
   "execution_count": 28,
   "metadata": {},
   "outputs": [
    {
     "data": {
      "text/plain": [
       "array([[ 1, -1, -1,  1, -1, -1],\n",
       "       [-1, -1, -1, -1, -1, -1],\n",
       "       [-1, -1,  1, -1, -1, -1],\n",
       "       [-1, -1, -1, -1, -1, -1],\n",
       "       [-1, -1, -1, -1, -1, -1],\n",
       "       [-1, -1, -1, -1, -1, -1],\n",
       "       [-1, -1, -1, -1, -1, -1],\n",
       "       [-1, -1, -1,  1, -1, -1],\n",
       "       [ 1,  1, -1, -1, -1, -1],\n",
       "       [-1, -1, -1, -1, -1, -1],\n",
       "       [ 1, -1, -1, -1, -1, -1],\n",
       "       [-1, -1, -1, -1, -1, -1]])"
      ]
     },
     "execution_count": 28,
     "metadata": {},
     "output_type": "execute_result"
    }
   ],
   "source": [
    "L_train"
   ]
  },
  {
   "cell_type": "code",
   "execution_count": 29,
   "metadata": {},
   "outputs": [
    {
     "data": {
      "text/plain": [
       "array([[-1, -1, -1, -1, -1, -1],\n",
       "       [-1, -1, -1,  1, -1, -1]])"
      ]
     },
     "execution_count": 29,
     "metadata": {},
     "output_type": "execute_result"
    }
   ],
   "source": [
    "L_test"
   ]
  },
  {
   "cell_type": "code",
   "execution_count": 30,
   "metadata": {},
   "outputs": [
    {
     "data": {
      "text/plain": [
       "array([-1., -1.])"
      ]
     },
     "execution_count": 30,
     "metadata": {},
     "output_type": "execute_result"
    }
   ],
   "source": [
    "Y_test"
   ]
  },
  {
   "cell_type": "code",
   "execution_count": 36,
   "metadata": {},
   "outputs": [
    {
     "name": "stdout",
     "output_type": "stream",
     "text": [
      "<snorkel.labeling.model.baselines.MajorityLabelVoter object at 0x000002C2154CE1C0>\n",
      "LabelModel()\n"
     ]
    },
    {
     "name": "stderr",
     "output_type": "stream",
     "text": [
      "C:\\Users\\ARalevski\\miniconda3\\envs\\snorkel\\lib\\site-packages\\numpy\\lib\\function_base.py:380: RuntimeWarning: Mean of empty slice.\n",
      "  avg = a.mean(axis)\n",
      "C:\\Users\\ARalevski\\miniconda3\\envs\\snorkel\\lib\\site-packages\\numpy\\core\\_methods.py:170: RuntimeWarning: invalid value encountered in double_scalars\n",
      "  ret = ret.dtype.type(ret / rcount)\n",
      "C:\\Users\\ARalevski\\miniconda3\\envs\\snorkel\\lib\\site-packages\\numpy\\lib\\function_base.py:380: RuntimeWarning: Mean of empty slice.\n",
      "  avg = a.mean(axis)\n",
      "C:\\Users\\ARalevski\\miniconda3\\envs\\snorkel\\lib\\site-packages\\numpy\\core\\_methods.py:170: RuntimeWarning: invalid value encountered in double_scalars\n",
      "  ret = ret.dtype.type(ret / rcount)\n"
     ]
    }
   ],
   "source": [
    "majority_acc = majority_model.score(L=L_test, Y=Y_test, tie_break_policy=\"random\")[\n",
    "    \"accuracy\"\n",
    "]\n",
    "\n",
    "print(f\"{'Majority Vote Accuracy:':<25} {majority_acc * 100:.1f}%\")\n",
    "\n",
    "label_model_acc = label_model.score(L=L_test, Y=Y_test, tie_break_policy=\"random\")[\n",
    "     \"accuracy\"\n",
    " ]\n",
    "\n",
    "print(f\"{'Label Model Accuracy:':<25} {label_model_acc * 100:.1f}%\")\n"
   ]
  },
  {
   "cell_type": "code",
   "execution_count": 23,
   "metadata": {},
   "outputs": [
    {
     "data": {
      "text/html": [
       "<div>\n",
       "<style scoped>\n",
       "    .dataframe tbody tr th:only-of-type {\n",
       "        vertical-align: middle;\n",
       "    }\n",
       "\n",
       "    .dataframe tbody tr th {\n",
       "        vertical-align: top;\n",
       "    }\n",
       "\n",
       "    .dataframe thead th {\n",
       "        text-align: right;\n",
       "    }\n",
       "</style>\n",
       "<table border=\"1\" class=\"dataframe\">\n",
       "  <thead>\n",
       "    <tr style=\"text-align: right;\">\n",
       "      <th></th>\n",
       "      <th>j</th>\n",
       "      <th>Polarity</th>\n",
       "      <th>Coverage</th>\n",
       "      <th>Overlaps</th>\n",
       "      <th>Conflicts</th>\n",
       "    </tr>\n",
       "  </thead>\n",
       "  <tbody>\n",
       "    <tr>\n",
       "      <th>keyword_my</th>\n",
       "      <td>0</td>\n",
       "      <td>[1]</td>\n",
       "      <td>0.250000</td>\n",
       "      <td>0.166667</td>\n",
       "      <td>0.0</td>\n",
       "    </tr>\n",
       "    <tr>\n",
       "      <th>keyword_subscribe</th>\n",
       "      <td>1</td>\n",
       "      <td>[1]</td>\n",
       "      <td>0.083333</td>\n",
       "      <td>0.083333</td>\n",
       "      <td>0.0</td>\n",
       "    </tr>\n",
       "    <tr>\n",
       "      <th>keyword_http</th>\n",
       "      <td>2</td>\n",
       "      <td>[1]</td>\n",
       "      <td>0.083333</td>\n",
       "      <td>0.000000</td>\n",
       "      <td>0.0</td>\n",
       "    </tr>\n",
       "    <tr>\n",
       "      <th>keyword_please</th>\n",
       "      <td>3</td>\n",
       "      <td>[1]</td>\n",
       "      <td>0.166667</td>\n",
       "      <td>0.083333</td>\n",
       "      <td>0.0</td>\n",
       "    </tr>\n",
       "    <tr>\n",
       "      <th>keyword_song</th>\n",
       "      <td>4</td>\n",
       "      <td>[]</td>\n",
       "      <td>0.000000</td>\n",
       "      <td>0.000000</td>\n",
       "      <td>0.0</td>\n",
       "    </tr>\n",
       "    <tr>\n",
       "      <th>regex_check_out</th>\n",
       "      <td>5</td>\n",
       "      <td>[]</td>\n",
       "      <td>0.000000</td>\n",
       "      <td>0.000000</td>\n",
       "      <td>0.0</td>\n",
       "    </tr>\n",
       "  </tbody>\n",
       "</table>\n",
       "</div>"
      ],
      "text/plain": [
       "                   j Polarity  Coverage  Overlaps  Conflicts\n",
       "keyword_my         0      [1]  0.250000  0.166667        0.0\n",
       "keyword_subscribe  1      [1]  0.083333  0.083333        0.0\n",
       "keyword_http       2      [1]  0.083333  0.000000        0.0\n",
       "keyword_please     3      [1]  0.166667  0.083333        0.0\n",
       "keyword_song       4       []  0.000000  0.000000        0.0\n",
       "regex_check_out    5       []  0.000000  0.000000        0.0"
      ]
     },
     "execution_count": 23,
     "metadata": {},
     "output_type": "execute_result"
    }
   ],
   "source": [
    "LFAnalysis(L=L_train, lfs=lfs).lf_summary()"
   ]
  },
  {
   "cell_type": "code",
   "execution_count": 24,
   "metadata": {},
   "outputs": [],
   "source": [
    "df_train_filtered, preds_train_filtered = filter_unlabeled_dataframe(\n",
    "    X=df_train, y=preds_train, L=L_train)\n",
    "    "
   ]
  },
  {
   "cell_type": "code",
   "execution_count": 25,
   "metadata": {},
   "outputs": [],
   "source": [
    "df_train[\"label\"] = label_model.predict(L=L_train, tie_break_policy=\"abstain\")"
   ]
  },
  {
   "cell_type": "code",
   "execution_count": 39,
   "metadata": {},
   "outputs": [],
   "source": [
    "label_model.save(\"snorkel_2.pkl\")"
   ]
  },
  {
   "cell_type": "code",
   "execution_count": 40,
   "metadata": {},
   "outputs": [],
   "source": [
    "df_train.to_csv(\"results_keyword_test.csv\")"
   ]
  }
 ],
 "metadata": {
  "interpreter": {
   "hash": "dbf5c88e0c78541bf9ac2a8797a52df2b85e32f174d6e4a5c2637586792bc8db"
  },
  "kernelspec": {
   "display_name": "Python 3.8.10 64-bit ('snorkel': conda)",
   "name": "python3"
  },
  "language_info": {
   "codemirror_mode": {
    "name": "ipython",
    "version": 3
   },
   "file_extension": ".py",
   "mimetype": "text/x-python",
   "name": "python",
   "nbconvert_exporter": "python",
   "pygments_lexer": "ipython3",
   "version": "3.8.10"
  },
  "orig_nbformat": 4
 },
 "nbformat": 4,
 "nbformat_minor": 2
}
